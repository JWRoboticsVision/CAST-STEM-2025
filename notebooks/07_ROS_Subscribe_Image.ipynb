{
 "cells": [
  {
   "cell_type": "code",
   "execution_count": null,
   "id": "e1e1feaa",
   "metadata": {},
   "outputs": [],
   "source": [
    "import cv2\n",
    "import rospy\n",
    "from sensor_msgs.msg import Image\n",
    "from cv_bridge import CvBridge, CvBridgeError\n",
    "import matplotlib.pyplot as plt"
   ]
  },
  {
   "cell_type": "code",
   "execution_count": null,
   "id": "3b3a6245",
   "metadata": {},
   "outputs": [],
   "source": [
    "# Initialize ROS Node\n",
    "my_node = rospy.init_node('test_sub_node', anonymous=True)\n",
    "\n",
    "# Initialize CvBridge\n",
    "from cv_bridge import CvBridge\n",
    "bridge = CvBridge()\n",
    "\n",
    "# Topic to subscribe to\n",
    "color_topic = \"/dummy_camera/color/image_raw\"\n",
    "depth_opic = \"/dummy_camera/depth/image_raw\""
   ]
  },
  {
   "cell_type": "code",
   "execution_count": null,
   "id": "c100b3aa",
   "metadata": {},
   "outputs": [],
   "source": [
    "color_msg = rospy.wait_for_message(color_topic, Image)\n",
    "if color_msg is not None:\n",
    "    cv_image = bridge.imgmsg_to_cv2(color_msg, desired_encoding='passthrough')\n",
    "    rgb_image = cv2.cvtColor(cv_image, cv2.COLOR_BGR2RGB)\n",
    "\n",
    "# Display the image\n",
    "plt.imshow(rgb_image)"
   ]
  },
  {
   "cell_type": "code",
   "execution_count": null,
   "id": "6670a99f",
   "metadata": {},
   "outputs": [],
   "source": [
    "depth_msg = rospy.wait_for_message(depth_opic, Image)\n",
    "if depth_msg is not None:\n",
    "    cv_image = bridge.imgmsg_to_cv2(depth_msg, desired_encoding=\"passthrough\")\n",
    "    depth_image = cv_image.astype(\"float32\") / 1000.0  # Convert to meters if needed\n",
    "\n",
    "# Display the depth image\n",
    "plt.imshow(depth_image, cmap=\"jet\")"
   ]
  }
 ],
 "metadata": {
  "kernelspec": {
   "display_name": "Python 3",
   "language": "python",
   "name": "python3"
  },
  "language_info": {
   "codemirror_mode": {
    "name": "ipython",
    "version": 3
   },
   "file_extension": ".py",
   "mimetype": "text/x-python",
   "name": "python",
   "nbconvert_exporter": "python",
   "pygments_lexer": "ipython3",
   "version": "3.11.13"
  }
 },
 "nbformat": 4,
 "nbformat_minor": 5
}
