{
 "cells": [
  {
   "cell_type": "code",
   "execution_count": null,
   "id": "e1e1feaa",
   "metadata": {},
   "outputs": [],
   "source": [
    "import cv2\n",
    "import rospy\n",
    "from sensor_msgs.msg import Image\n",
    "from cv_bridge import CvBridge, CvBridgeError"
   ]
  },
  {
   "cell_type": "markdown",
   "id": "16efdc7a",
   "metadata": {},
   "source": [
    "# Initialize ROS Node\n",
    "\n",
    "reference: http://wiki.ros.org/rospy/Overview/Initialization%20and%20Shutdown\n",
    "\n",
    "rospy.init_node(name, anonymous=False, log_level=rospy.INFO, disable_signals=False)"
   ]
  },
  {
   "cell_type": "code",
   "execution_count": null,
   "id": "8e275637",
   "metadata": {},
   "outputs": [],
   "source": [
    "# Initialize ROS Node\n",
    "my_node = rospy.init_node('test_node', anonymous=True)\n",
    "\n",
    "# Define the message rate\n",
    "rate = rospy.Rate(10)  # 10 Hz"
   ]
  },
  {
   "cell_type": "markdown",
   "id": "00b7f3a5",
   "metadata": {},
   "source": [
    "# Message Publisher & Subscriber\n",
    "reference: http://wiki.ros.org/ROS/Tutorials/WritingPublisherSubscriber%28python%29\n",
    "\n",
    "## CV_Bridge\n",
    "reference: http://wiki.ros.org/cv_bridge\n",
    "\n",
    "![cv_bridge](http://wiki.ros.org/cv_bridge?action=AttachFile&do=get&target=cvbridge.png)"
   ]
  },
  {
   "cell_type": "code",
   "execution_count": null,
   "id": "c100b3aa",
   "metadata": {},
   "outputs": [],
   "source": [
    "# Initialize CvBridge\n",
    "from cv_bridge import CvBridge\n",
    "bridge = CvBridge()"
   ]
  },
  {
   "cell_type": "code",
   "execution_count": null,
   "id": "6670a99f",
   "metadata": {},
   "outputs": [],
   "source": [
    "# String Publisher\n",
    "from std_msgs.msg import String\n",
    "stringPub = rospy.Publisher('test_node/string', String, queue_size=10)\n",
    "\n",
    "# Image Publisher\n",
    "from sensor_msgs.msg import Image\n",
    "imagePub = rospy.Publisher('test_node/image', Image, queue_size=10)"
   ]
  },
  {
   "cell_type": "markdown",
   "id": "015b856d",
   "metadata": {},
   "source": [
    "# Publish Messages"
   ]
  },
  {
   "cell_type": "code",
   "execution_count": null,
   "id": "fda42aa1",
   "metadata": {},
   "outputs": [],
   "source": [
    "while not rospy.is_shutdown():\n",
    "    # publish a string message\n",
    "    strMsg = f\"hello world {rospy.get_time()}\"\n",
    "    stringPub.publish(strMsg)\n",
    "\n",
    "    # publish an image message\n",
    "    cv_img = cv2.imread(\"../demo/recordings/demo_video/color/color_000000.jpg\")\n",
    "    img_msg = bridge.cv2_to_imgmsg(cv_img, encoding=\"bgr8\")\n",
    "\n",
    "    # Add timestamp to the image message\n",
    "    img_msg.header.stamp = rospy.Time.now()\n",
    "    imagePub.publish(img_msg)\n",
    "\n",
    "    rate.sleep()"
   ]
  },
  {
   "cell_type": "markdown",
   "id": "2df84782",
   "metadata": {},
   "source": [
    "# Practice\n",
    "\n",
    "Define a class `RecordingPublisher` that publishes both color and depth images from a video recording. The class should have the following methods:\n",
    "- `__init__(self, recording_dir, fps=30)`: Initializes the publisher with the given recording directory and publishing rate.\n",
    "- ` _init_node(self, node_name)`: Initializes the ROS node with the given name.\n",
    "- `_get_next_frame(self)`: Retrieves the next frame from the video recording in a loop.\n",
    "- `run(self)`: Publishes the color and depth images at the specified rate.\n",
    "- The publisher topics are given as dict `PUB_TOPICS`.\n",
    "- Use `RVIZ` to visualize the published images.\n",
    "\n",
    "Refer to the code [image_publisher.py](./image_publisher.py) for the answer."
   ]
  },
  {
   "cell_type": "code",
   "execution_count": null,
   "id": "6c066dbf",
   "metadata": {},
   "outputs": [],
   "source": [
    "from pathlib import Path\n",
    "import cv2\n",
    "import rospy\n",
    "from sensor_msgs.msg import Image\n",
    "from cv_bridge import CvBridge, CvBridgeError\n",
    "\n",
    "PUB_TOPICS = {\n",
    "    \"colorTopic\": \"/dummy_camera/color/image_raw\",\n",
    "    \"depthTopic\": \"/dummy_camera/depth/image_raw\",\n",
    "}\n",
    "\n",
    "\n",
    "def read_rgb_image(image_path):\n",
    "    return cv2.cvtColor(cv2.imread(str(image_path)), cv2.COLOR_BGR2RGB)\n",
    "\n",
    "\n",
    "def read_depth_image(image_path):\n",
    "    return cv2.imread(str(image_path), cv2.IMREAD_ANYDEPTH)\n",
    "\n",
    "\n",
    "class RecordingPublisher:\n",
    "    def __init__(self, recording_dir, fps=30) -> None:\n",
    "        # Initialize the Node\n",
    "        self._init_node(\"recording_publisher\")\n",
    "\n",
    "        # Initialize the CvBridge\n",
    "        self._bridge = CvBridge()\n",
    "\n",
    "        # Define the ros rate\n",
    "        self._rate = rospy.Rate(fps)\n",
    "\n",
    "        # Pre-load the color and depth files\n",
    "        self._color_files = sorted(Path(recording_dir).glob(\"color/*.jpg\"))\n",
    "        self._depth_files = sorted(Path(recording_dir).glob(\"depth/*.png\"))\n",
    "        assert len(self._color_files) == len(self._depth_files), \"Color and depth files must match in number\"\n",
    "\n",
    "        # Other initializations\n",
    "        self._num_frames = len(self._color_files)\n",
    "        self._frame_id = -1\n",
    "\n",
    "        # Define publishers\n",
    "        self._colorPub = rospy.Publisher(PUB_TOPICS[\"colorTopic\"], Image, queue_size=1)\n",
    "        self._depthPub = rospy.Publisher(PUB_TOPICS[\"depthTopic\"], Image, queue_size=1)\n",
    "\n",
    "    def _init_node(self, node_name):\n",
    "        \"\"\"Method to initialize the ROS node with a given name.\"\"\"\n",
    "        rospy.loginfo(f\"Node initialized: {node_name}\")\n",
    "\n",
    "    def _get_next_frame(self):\n",
    "        \"\"\"Method to get the next frame from the recording.\"\"\"\n",
    "        self._frame_id = (self._frame_id + 1) % self._num_frames\n",
    "        color = cv2.imread(str(self._color_files[self._frame_id]), cv2.IMREAD_COLOR)\n",
    "        depth = cv2.imread(str(self._depth_files[self._frame_id]), cv2.IMREAD_ANYDEPTH)\n",
    "        return color, depth\n",
    "\n",
    "    def run(self):\n",
    "        \"\"\"Method to start publishing the recording frames.\"\"\"\n",
    "        rospy.loginfo(\"Start publishing recording frames...\")\n",
    "\n",
    "        # Main loop to publish frames\n",
    "        while not rospy.is_shutdown():\n",
    "            try:\n",
    "                # Get the next color and depth frames\n",
    "\n",
    "                # Convert OpenCV images to ROS messages\n",
    "\n",
    "                # Add timestamp to the messages\n",
    "\n",
    "\n",
    "                # Publish the messages\n",
    "\n",
    "\n",
    "            except CvBridgeError as e:\n",
    "                rospy.logerr(e)\n",
    "\n",
    "            self._rate.sleep()"
   ]
  },
  {
   "cell_type": "code",
   "execution_count": null,
   "id": "518c26dc",
   "metadata": {},
   "outputs": [],
   "source": [
    "# Run the RecordingPublisher if this script is executed directly\n",
    "recording_dir = \"../demo/recordings/demo_video\"\n",
    "camera_publisher = RecordingPublisher(recording_dir)\n",
    "camera_publisher.run()"
   ]
  }
 ],
 "metadata": {
  "kernelspec": {
   "display_name": "Python 3",
   "language": "python",
   "name": "python3"
  },
  "language_info": {
   "codemirror_mode": {
    "name": "ipython",
    "version": 3
   },
   "file_extension": ".py",
   "mimetype": "text/x-python",
   "name": "python",
   "nbconvert_exporter": "python",
   "pygments_lexer": "ipython3",
   "version": "3.11.13"
  }
 },
 "nbformat": 4,
 "nbformat_minor": 5
}
